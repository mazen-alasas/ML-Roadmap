{
  "nbformat": 4,
  "nbformat_minor": 0,
  "metadata": {
    "colab": {
      "provenance": []
    },
    "kernelspec": {
      "name": "python3",
      "display_name": "Python 3"
    },
    "language_info": {
      "name": "python"
    }
  },
  "cells": [
    {
      "cell_type": "code",
      "source": [
        "import pandas as pd\n",
        "from sklearn.svm import SVC\n",
        "from sklearn.datasets import load_breast_cancer\n",
        "from sklearn.model_selection import train_test_split\n",
        "from sklearn.metrics import mean_squared_error, r2_score"
      ],
      "metadata": {
        "id": "PQ6tJS1DmSG7"
      },
      "execution_count": 1,
      "outputs": []
    },
    {
      "cell_type": "code",
      "source": [
        "data = load_breast_cancer()\n",
        "\n",
        "\n",
        "inputData = data.data\n",
        "outputData = data.target"
      ],
      "metadata": {
        "id": "8lE7vDmPqPhf"
      },
      "execution_count": 2,
      "outputs": []
    },
    {
      "cell_type": "code",
      "source": [
        "x_train, x_test, y_train, y_test = train_test_split(inputData, outputData, test_size=0.3, random_state=42)\n"
      ],
      "metadata": {
        "id": "WZpzpk0TqkXq"
      },
      "execution_count": 3,
      "outputs": []
    },
    {
      "cell_type": "code",
      "source": [
        "svc = SVC(kernel   = 'linear',\n",
        "          max_iter = 100,\n",
        "          C        = 1.0,\n",
        "          gamma    = 'auto')\n",
        "\n",
        "svc.fit(x_train, y_train)\n",
        "y_pred = svc.predict(x_test)"
      ],
      "metadata": {
        "colab": {
          "base_uri": "https://localhost:8080/"
        },
        "id": "rFkq3bcqq399",
        "outputId": "d8dc07c7-0c18-4926-8cf2-3a009f824aa9"
      },
      "execution_count": 4,
      "outputs": [
        {
          "output_type": "stream",
          "name": "stderr",
          "text": [
            "/usr/local/lib/python3.10/dist-packages/sklearn/svm/_base.py:297: ConvergenceWarning: Solver terminated early (max_iter=100).  Consider pre-processing your data with StandardScaler or MinMaxScaler.\n",
            "  warnings.warn(\n"
          ]
        }
      ]
    },
    {
      "cell_type": "code",
      "source": [
        "print(f'R2 : {r2_score(y_test, y_pred)}')\n",
        "print(f'MSE : {mean_squared_error(y_test, y_pred)}')"
      ],
      "metadata": {
        "colab": {
          "base_uri": "https://localhost:8080/"
        },
        "id": "mj7BIZXKvbhg",
        "outputId": "74aca4bc-c93b-4b05-b1bf-0f326def3056"
      },
      "execution_count": 5,
      "outputs": [
        {
          "output_type": "stream",
          "name": "stdout",
          "text": [
            "R2 : 0.8492063492063492\n",
            "MSE : 0.03508771929824561\n"
          ]
        }
      ]
    },
    {
      "cell_type": "code",
      "source": [],
      "metadata": {
        "id": "2uIwH6NBv5HA"
      },
      "execution_count": 5,
      "outputs": []
    }
  ]
}