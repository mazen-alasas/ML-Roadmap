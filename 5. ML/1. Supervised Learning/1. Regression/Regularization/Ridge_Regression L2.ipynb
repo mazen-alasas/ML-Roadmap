{
 "cells": [
  {
   "cell_type": "markdown",
   "metadata": {},
   "source": [
    "## Ridge Regression:\n",
    "\n",
    "$$\\sum_{i=1}^M (y_i - \\hat{y}_i)^2 = \\sum_{i=1}^M (y_i - \\sum_{j=0}^p w_j x_{ij})^2 + \\lambda \\sum_{j=0}^p w_j^2$$"
   ]
  },
  {
   "cell_type": "code",
   "execution_count": 1,
   "metadata": {},
   "outputs": [],
   "source": [
    "import numpy as np\n",
    "import pandas as pd\n",
    "import matplotlib.pyplot as plt\n",
    "import seaborn as sns\n",
    "\n",
    "from sklearn.model_selection import train_test_split\n",
    "from sklearn.metrics import mean_squared_error, r2_score"
   ]
  },
  {
   "cell_type": "code",
   "execution_count": 2,
   "metadata": {},
   "outputs": [],
   "source": [
    "class LinearRegression:\n",
    "    def __init__(self, alpha = 0.01, n_iters = 1500):\n",
    "        self.alpha   = alpha\n",
    "        self.n_iters = n_iters\n",
    "        self.weights = None\n",
    "        self.bias    = None\n",
    "    \n",
    "    def predict(self, X):\n",
    "        return np.dot(X, self.weights) + self.bias\n",
    "\n",
    "    def fit(self, X, y):\n",
    "        n_rows, n_features = X.shape\n",
    "        self.weights          = np.zeros(n_features) \n",
    "        self.bias             = 0\n",
    "\n",
    "        for _ in range(self.n_iters):\n",
    "            Y_hat = self.predict(X)\n",
    "            w = (1 / n_rows) * np.dot(X.T, (Y_hat - y))\n",
    "            b = (1 / n_rows) * np.sum(Y_hat - y)\n",
    "\n",
    "            self.weights -= self.alpha * w\n",
    "            self.bias    -= self.alpha * b\n"
   ]
  },
  {
   "cell_type": "code",
   "execution_count": 3,
   "metadata": {},
   "outputs": [],
   "source": [
    "class RidgeRegression(LinearRegression):\n",
    "    def __init__(self, alpha = 0.01, n_iters = 1500, lambda_val = 0.1):\n",
    "        super().__init__(alpha, n_iters)\n",
    "        self.lambda_val = lambda_val\n",
    "    \n",
    "\n",
    "    def predict(self, X):\n",
    "        return np.dot(X, self.weights) + self.bias\n",
    "\n",
    "    def fit(self, X, y):\n",
    "        n_rows, n_features = X.shape\n",
    "        self.weights          = np.zeros(n_features)\n",
    "        self.bias             = 0\n",
    "\n",
    "        for _ in range(self.n_iters):\n",
    "            y_predicted = self.predict(X)\n",
    "            w = (1 / n_rows) * np.dot(X.T, (y_predicted - y)) + self.lambda_val * (self.weights ** 2)\n",
    "            b = (1 / n_rows) * np.sum(y_predicted - y)\n",
    "\n",
    "            self.weights -= self.alpha * w\n",
    "            self.bias    -= self.alpha * b"
   ]
  },
  {
   "cell_type": "code",
   "execution_count": 4,
   "metadata": {},
   "outputs": [],
   "source": [
    "data = pd.read_csv('data 2.csv')\n",
    "\n",
    "input_data = data.drop('y', axis = 1)\n",
    "output_data = data['y']"
   ]
  },
  {
   "cell_type": "code",
   "execution_count": 5,
   "metadata": {},
   "outputs": [],
   "source": [
    "X_train, X_test, y_train, y_test = train_test_split(input_data, output_data, test_size = 0.2, random_state = 1)"
   ]
  },
  {
   "cell_type": "code",
   "execution_count": 6,
   "metadata": {},
   "outputs": [],
   "source": [
    "input_data = np.array(input_data)\n",
    "\n",
    "X_train = np.array(X_train)\n",
    "X_test = np.array(X_test)"
   ]
  },
  {
   "cell_type": "code",
   "execution_count": 7,
   "metadata": {},
   "outputs": [],
   "source": [
    "ridge_model = RidgeRegression()\n",
    "ridge_model.fit(X_train, y_train)"
   ]
  },
  {
   "cell_type": "code",
   "execution_count": 8,
   "metadata": {},
   "outputs": [],
   "source": [
    "y_test_pred = ridge_model.predict(X_test)"
   ]
  },
  {
   "cell_type": "code",
   "execution_count": 9,
   "metadata": {},
   "outputs": [
    {
     "name": "stdout",
     "output_type": "stream",
     "text": [
      "mse = 9.968118041064349\n",
      "r2  = 0.6872907535923641\n"
     ]
    }
   ],
   "source": [
    "mse = mean_squared_error(y_test, y_test_pred)\n",
    "\n",
    "r2 = r2_score(y_test, y_test_pred)\n",
    "\n",
    "print(f'mse = {mse}')\n",
    "print(f'r2  = {r2}')"
   ]
  },
  {
   "cell_type": "code",
   "execution_count": 10,
   "metadata": {},
   "outputs": [
    {
     "data": {
      "image/png": "[encoded data removed]",
      "text/plain": [
       "<Figure size 640x480 with 1 Axes>"
      ]
     },
     "metadata": {},
     "output_type": "display_data"
    }
   ],
   "source": [
    "plt.scatter(X_train, y_train)\n",
    "plt.scatter(X_test, y_test)\n",
    "\n",
    "xline = [min(input_data), max(input_data)]\n",
    "yline = [ridge_model.predict(x) for x in xline]\n",
    "\n",
    "plt.plot(xline, yline, 'r-')\n",
    "\n",
    "plt.show()"
   ]
  },
  {
   "cell_type": "markdown",
   "metadata": {},
   "source": [
    "## using **Ridge** from Sklearn"
   ]
  },
  {
   "cell_type": "code",
   "execution_count": 11,
   "metadata": {},
   "outputs": [
    {
     "name": "stdout",
     "output_type": "stream",
     "text": [
      "mse = 10.069970712728077\n",
      "r2  = 0.6840955394035515\n"
     ]
    }
   ],
   "source": [
    "from sklearn.linear_model import Ridge\n",
    "\n",
    "ridge_model = Ridge(alpha = 0.1)\n",
    "ridge_model.fit(X_train, y_train)\n",
    "\n",
    "y_pred = ridge_model.predict(X_test)\n",
    "\n",
    "mse = mean_squared_error(y_test, y_pred)\n",
    "r2  = r2_score(y_test, y_pred)\n",
    "\n",
    "print(f'mse = {mse}')\n",
    "print(f'r2  = {r2}')"
   ]
  }
 ],
 "metadata": {
  "kernelspec": {
   "display_name": "base",
   "language": "python",
   "name": "python3"
  },
  "language_info": {
   "codemirror_mode": {
    "name": "ipython",
    "version": 3
   },
   "file_extension": ".py",
   "mimetype": "text/x-python",
   "name": "python",
   "nbconvert_exporter": "python",
   "pygments_lexer": "ipython3",
   "version": "3.12.4"
  }
 },
 "nbformat": 4,
 "nbformat_minor": 2
}
